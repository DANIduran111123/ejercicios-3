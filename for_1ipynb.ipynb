{
  "nbformat": 4,
  "nbformat_minor": 0,
  "metadata": {
    "colab": {
      "provenance": [],
      "authorship_tag": "ABX9TyMEx/bibWtkkqgdm0y2uuGl",
      "include_colab_link": true
    },
    "kernelspec": {
      "name": "python3",
      "display_name": "Python 3"
    },
    "language_info": {
      "name": "python"
    }
  },
  "cells": [
    {
      "cell_type": "markdown",
      "metadata": {
        "id": "view-in-github",
        "colab_type": "text"
      },
      "source": [
        "<a href=\"https://colab.research.google.com/github/DANIduran111123/ejercicios-3/blob/main/for_1ipynb.ipynb\" target=\"_parent\"><img src=\"https://colab.research.google.com/assets/colab-badge.svg\" alt=\"Open In Colab\"/></a>"
      ]
    },
    {
      "cell_type": "code",
      "execution_count": null,
      "metadata": {
        "id": "WaUV_IEYSGOl"
      },
      "outputs": [],
      "source": [
        "# ejercicio no1\n",
        "\n",
        "print(\"biemvenidos a google colaboratori\")\n",
        "\n",
        "suma = 0\n",
        "serie = list(range(1,11))\n",
        "for i in range(1,11):\n",
        "  suma = suma + i\n",
        "\n",
        "  print(\"la suma es: \" + str(suma))\n",
        "  print(serie)\n"
      ]
    },
    {
      "cell_type": "code",
      "source": [
        "print(\"biemvenido a google colab \")\n",
        "\n",
        "#ejercicio no2\n",
        "\n",
        "print(1)\n",
        "print(2)\n",
        "print(3)\n",
        "print(4)\n",
        "print(5)\n",
        "print(6)\n",
        "print(7)\n",
        "print(8)\n",
        "print(9)\n",
        "print(10)"
      ],
      "metadata": {
        "id": "MXac604GHw6g"
      },
      "execution_count": null,
      "outputs": []
    },
    {
      "cell_type": "code",
      "source": [
        "#ejercicio no 3\n",
        "\n",
        "i = 1\n",
        "while (i <= 10):\n",
        "  print(i)\n",
        "  i = i + 1"
      ],
      "metadata": {
        "id": "tyHz-KgtH5GN"
      },
      "execution_count": null,
      "outputs": []
    },
    {
      "cell_type": "code",
      "source": [
        "# ejercicio no4\n",
        "\n",
        "for i in range(1,11):\n",
        "  print(i)"
      ],
      "metadata": {
        "id": "9t5RKPXMH9Az"
      },
      "execution_count": null,
      "outputs": []
    },
    {
      "cell_type": "code",
      "source": [
        "#ejercicio no5\n",
        "\n",
        "mi_lista = (1,2,3,4,5,6,7,8,9,10)\n",
        "for i in mi_lista:\n",
        "  print(i)"
      ],
      "metadata": {
        "id": "WQBNCU3LH_4u"
      },
      "execution_count": null,
      "outputs": []
    },
    {
      "cell_type": "code",
      "source": [
        "#ejercicio 6\n",
        "\n",
        "mi_lista = (1,2,3,4,5,6,7,8,9,10)\n",
        "for i in mi_lista:\n",
        "  print(f\"{i}guanenta 200 años!\")"
      ],
      "metadata": {
        "id": "GcCOEVA_IIBe"
      },
      "execution_count": null,
      "outputs": []
    },
    {
      "cell_type": "code",
      "source": [
        "# ejercicio 7\n",
        "\n",
        "dias_semana = [\"lu,ma,mi,ju,vi,sa,do\"]\n",
        "for i in dias_semana:\n",
        "  print(i)"
      ],
      "metadata": {
        "id": "_tbdySNLIbjM"
      },
      "execution_count": null,
      "outputs": []
    },
    {
      "cell_type": "code",
      "source": [
        "#ejercicio 8\n",
        "\n",
        "mi_listica = [1, 3.14, 9, True, \"abril\", 8, \"guanenta\"]\n",
        "for i in mi_listica:\n",
        "  print(i)"
      ],
      "metadata": {
        "id": "NoCRnxboIffG"
      },
      "execution_count": null,
      "outputs": []
    },
    {
      "cell_type": "code",
      "source": [
        "#ejercicio 9\n",
        "\n",
        "nombre = input(\"dijite su nombre\")\n",
        "\n",
        "for i in nombre:\n",
        "  print(i)"
      ],
      "metadata": {
        "id": "AAo1qHnjIiQt"
      },
      "execution_count": null,
      "outputs": []
    },
    {
      "cell_type": "code",
      "source": [
        "#ejercicio 10\n",
        "\n",
        "nombre = input(\"dijite su nombre\")\n",
        "\n",
        "for i in nombre:\n",
        "  if i == \"e\":\n",
        "   print(\"*\")\n",
        "  else:\n",
        "    print(i)"
      ],
      "metadata": {
        "id": "SexbmG4lIqzR"
      },
      "execution_count": null,
      "outputs": []
    },
    {
      "cell_type": "code",
      "source": [
        "#ejercicio 11\n",
        "\n",
        "nombre = input(\"dijite su nombre \")\n",
        "\n",
        "for i in nombre:\n",
        "  print(i.upper())"
      ],
      "metadata": {
        "id": "KRG0YXLZI1RV"
      },
      "execution_count": null,
      "outputs": []
    },
    {
      "cell_type": "code",
      "source": [
        "# ejercicio 12\n",
        "\n",
        "numeros = [20, 21, 30, 41, 50, 51, 20]\n",
        "\n",
        "for numero in numeros:\n",
        "    if numero % 10 != 1:\n",
        "        print(numero)"
      ],
      "metadata": {
        "id": "0Z3jn3RdI2Bw"
      },
      "execution_count": null,
      "outputs": []
    },
    {
      "cell_type": "code",
      "source": [
        "# ejercicio 13\n",
        "\n",
        "for _ in range(1000):\n",
        "    print(\"Programación\")\n"
      ],
      "metadata": {
        "id": "wecf8JBsI4qo"
      },
      "execution_count": null,
      "outputs": []
    },
    {
      "cell_type": "code",
      "source": [
        "#ejercicio 14\n",
        "\n",
        "\n",
        "meses = {\n",
        "    \"E\": \"Enero\",\n",
        "    \"F\": \"Febrero\",\n",
        "    \"M\": \"Marzo\",\n",
        "    \"A\": \"Abril\"\n",
        "}\n",
        "\n",
        "iniciales_meses = [\"E\", \"F\", \"M\", \"A\"]\n",
        "\n",
        "for inicial in iniciales_meses:\n",
        "    print(meses[inicial])"
      ],
      "metadata": {
        "id": "EmiHskLVI8Yg"
      },
      "execution_count": null,
      "outputs": []
    },
    {
      "cell_type": "code",
      "source": [
        "#ejercicio 15\n",
        "\n",
        "def contar_vocales(texto):\n",
        "    return {v: texto.lower().count(v) for v in 'aeiouáéíóú' if texto.lower().count(v) > 0}\n",
        "texto = input(\"Ingrese el texto: \")\n",
        "recuento = contar_vocales(texto)\n",
        "print(\"Recuento de vocales:\")\n",
        "for vocal, count in recuento.items():\n",
        "    print(f\"{vocal}: {count}\")"
      ],
      "metadata": {
        "id": "PGo6nXH8MO_f"
      },
      "execution_count": null,
      "outputs": []
    },
    {
      "cell_type": "markdown",
      "source": [
        "#ejercicio 16\n",
        "\n",
        "1. **Inicio:** Se representa con un óvalo que indica el inicio del bucle.\n",
        "2. **Inicialización:** Se utiliza un rectángulo para indicar la inicialización del bucle, donde se establecen las condiciones iniciales, como la asignación de un valor inicial a la variable de control del bucle.\n",
        "3. **Condición de continuación:** Se utiliza un rombo para representar la evaluación de la condición de continuación del bucle. Si la condición es verdadera, el flujo sigue adelante; de lo contrario, el bucle se termina.\n",
        "4. **Cuerpo del bucle:** Se representa con otro rectángulo que contiene las instrucciones que se ejecutan repetidamente mientras la condición de continuación sea verdadera.\n",
        "5. **Actualización de la variable de control:** Después de cada iteración del bucle, se actualiza la variable de control para acercarse a la condición de terminación.\n",
        "6. **Fin:** Se utiliza un óvalo para indicar el fin del bucle.\n"
      ],
      "metadata": {
        "id": "Vxq3dRQbPn2X"
      }
    },
    {
      "cell_type": "code",
      "source": [
        "# ejercicio 17\n",
        "\n",
        "\n",
        "pares, impares = sum(1 for _ in range(20) if int(input(\"Ingrese un número entero: \")) % 2 == 0), 20\n",
        "print(f\"Total de números pares: {pares}\")\n",
        "print(f\"Total de números impares: {impares - pares}\")"
      ],
      "metadata": {
        "id": "wz36R4ydP-Kl"
      },
      "execution_count": null,
      "outputs": []
    }
  ]
}