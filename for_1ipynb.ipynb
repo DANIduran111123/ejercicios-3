{
  "nbformat": 4,
  "nbformat_minor": 0,
  "metadata": {
    "colab": {
      "provenance": [],
      "authorship_tag": "ABX9TyMYXRinN9AZoNb3gYrXLL1k",
      "include_colab_link": true
    },
    "kernelspec": {
      "name": "python3",
      "display_name": "Python 3"
    },
    "language_info": {
      "name": "python"
    }
  },
  "cells": [
    {
      "cell_type": "markdown",
      "metadata": {
        "id": "view-in-github",
        "colab_type": "text"
      },
      "source": [
        "<a href=\"https://colab.research.google.com/github/DANIduran111123/ejercicios-3/blob/main/for_1ipynb.ipynb\" target=\"_parent\"><img src=\"https://colab.research.google.com/assets/colab-badge.svg\" alt=\"Open In Colab\"/></a>"
      ]
    },
    {
      "cell_type": "code",
      "execution_count": 4,
      "metadata": {
        "colab": {
          "base_uri": "https://localhost:8080/"
        },
        "id": "WaUV_IEYSGOl",
        "outputId": "3b3d3c20-a87d-454d-d69c-8f193d998e9e"
      },
      "outputs": [
        {
          "output_type": "stream",
          "name": "stdout",
          "text": [
            "biemvenidos a google colaboratori\n",
            "la suma es: 1\n",
            "[1, 2, 3, 4, 5, 6, 7, 8, 9, 10]\n",
            "la suma es: 3\n",
            "[1, 2, 3, 4, 5, 6, 7, 8, 9, 10]\n",
            "la suma es: 6\n",
            "[1, 2, 3, 4, 5, 6, 7, 8, 9, 10]\n",
            "la suma es: 10\n",
            "[1, 2, 3, 4, 5, 6, 7, 8, 9, 10]\n",
            "la suma es: 15\n",
            "[1, 2, 3, 4, 5, 6, 7, 8, 9, 10]\n",
            "la suma es: 21\n",
            "[1, 2, 3, 4, 5, 6, 7, 8, 9, 10]\n",
            "la suma es: 28\n",
            "[1, 2, 3, 4, 5, 6, 7, 8, 9, 10]\n",
            "la suma es: 36\n",
            "[1, 2, 3, 4, 5, 6, 7, 8, 9, 10]\n",
            "la suma es: 45\n",
            "[1, 2, 3, 4, 5, 6, 7, 8, 9, 10]\n",
            "la suma es: 55\n",
            "[1, 2, 3, 4, 5, 6, 7, 8, 9, 10]\n"
          ]
        }
      ],
      "source": [
        "# ejercicio no1\n",
        "\n",
        "print(\"biemvenidos a google colaboratori\")\n",
        "\n",
        "suma = 0\n",
        "serie = list(range(1,11))\n",
        "for i in range(1,11):\n",
        "  suma = suma + i\n",
        "\n",
        "  print(\"la suma es: \" + str(suma))\n",
        "  print(serie)\n"
      ]
    },
    {
      "cell_type": "code",
      "source": [
        "print(\"biemvenido a google colab \")\n",
        "\n",
        "#ejercicio no2\n",
        "\n",
        "print(1)\n",
        "print(2)\n",
        "print(3)\n",
        "print(4)\n",
        "print(5)\n",
        "print(6)\n",
        "print(7)\n",
        "print(8)\n",
        "print(9)\n",
        "print(10)"
      ],
      "metadata": {
        "colab": {
          "base_uri": "https://localhost:8080/"
        },
        "id": "MXac604GHw6g",
        "outputId": "f225f4c6-343c-4dcf-9fdb-124af0da3986"
      },
      "execution_count": 5,
      "outputs": [
        {
          "output_type": "stream",
          "name": "stdout",
          "text": [
            "biemvenido a google colab \n",
            "1\n",
            "2\n",
            "3\n",
            "4\n",
            "5\n",
            "6\n",
            "7\n",
            "8\n",
            "9\n",
            "10\n"
          ]
        }
      ]
    },
    {
      "cell_type": "code",
      "source": [
        "#ejercicio no 3\n",
        "\n",
        "i = 1\n",
        "while (i <= 10):\n",
        "  print(i)\n",
        "  i = i + 1"
      ],
      "metadata": {
        "colab": {
          "base_uri": "https://localhost:8080/"
        },
        "id": "tyHz-KgtH5GN",
        "outputId": "432102e5-cfef-4519-9328-ac8f896d5619"
      },
      "execution_count": 6,
      "outputs": [
        {
          "output_type": "stream",
          "name": "stdout",
          "text": [
            "1\n",
            "2\n",
            "3\n",
            "4\n",
            "5\n",
            "6\n",
            "7\n",
            "8\n",
            "9\n",
            "10\n"
          ]
        }
      ]
    },
    {
      "cell_type": "code",
      "source": [
        "# ejercicio no4\n",
        "\n",
        "for i in range(1,11):\n",
        "  print(i)"
      ],
      "metadata": {
        "colab": {
          "base_uri": "https://localhost:8080/"
        },
        "id": "9t5RKPXMH9Az",
        "outputId": "3410668a-1877-4473-f655-4e0d9eb22e1d"
      },
      "execution_count": 7,
      "outputs": [
        {
          "output_type": "stream",
          "name": "stdout",
          "text": [
            "1\n",
            "2\n",
            "3\n",
            "4\n",
            "5\n",
            "6\n",
            "7\n",
            "8\n",
            "9\n",
            "10\n"
          ]
        }
      ]
    },
    {
      "cell_type": "code",
      "source": [
        "#ejercicio no5\n",
        "\n",
        "mi_lista = (1,2,3,4,5,6,7,8,9,10)\n",
        "for i in mi_lista:\n",
        "  print(i)"
      ],
      "metadata": {
        "colab": {
          "base_uri": "https://localhost:8080/"
        },
        "id": "WQBNCU3LH_4u",
        "outputId": "6538a213-6ba3-420d-c9e1-5482e002e39a"
      },
      "execution_count": 8,
      "outputs": [
        {
          "output_type": "stream",
          "name": "stdout",
          "text": [
            "1\n",
            "2\n",
            "3\n",
            "4\n",
            "5\n",
            "6\n",
            "7\n",
            "8\n",
            "9\n",
            "10\n"
          ]
        }
      ]
    },
    {
      "cell_type": "code",
      "source": [
        "#ejercicio 6\n",
        "\n",
        "mi_lista = (1,2,3,4,5,6,7,8,9,10)\n",
        "for i in mi_lista:\n",
        "  print(f\"{i}guanenta 200 años!\")"
      ],
      "metadata": {
        "colab": {
          "base_uri": "https://localhost:8080/"
        },
        "id": "GcCOEVA_IIBe",
        "outputId": "74e909d3-e439-46a3-ff11-2ee469439264"
      },
      "execution_count": 9,
      "outputs": [
        {
          "output_type": "stream",
          "name": "stdout",
          "text": [
            "1guanenta 200 años!\n",
            "2guanenta 200 años!\n",
            "3guanenta 200 años!\n",
            "4guanenta 200 años!\n",
            "5guanenta 200 años!\n",
            "6guanenta 200 años!\n",
            "7guanenta 200 años!\n",
            "8guanenta 200 años!\n",
            "9guanenta 200 años!\n",
            "10guanenta 200 años!\n"
          ]
        }
      ]
    },
    {
      "cell_type": "code",
      "source": [
        "# ejercicio 7\n",
        "\n",
        "dias_semana = [\"lu,ma,mi,ju,vi,sa,do\"]\n",
        "for i in dias_semana:\n",
        "  print(i)"
      ],
      "metadata": {
        "colab": {
          "base_uri": "https://localhost:8080/"
        },
        "id": "_tbdySNLIbjM",
        "outputId": "ea9e9f19-ac9f-408d-9e85-e754495ea991"
      },
      "execution_count": 10,
      "outputs": [
        {
          "output_type": "stream",
          "name": "stdout",
          "text": [
            "lu,ma,mi,ju,vi,sa,do\n"
          ]
        }
      ]
    },
    {
      "cell_type": "code",
      "source": [
        "#ejercicio 8\n",
        "\n",
        "mi_listica = [1, 3.14, 9, True, \"daniela\", 8, \"guanenta\"]\n",
        "for i in mi_listica:\n",
        "  print(i)"
      ],
      "metadata": {
        "colab": {
          "base_uri": "https://localhost:8080/"
        },
        "id": "NoCRnxboIffG",
        "outputId": "cbf27f38-2021-4ead-fde7-a6ddb4b96636"
      },
      "execution_count": 12,
      "outputs": [
        {
          "output_type": "stream",
          "name": "stdout",
          "text": [
            "1\n",
            "3.14\n",
            "9\n",
            "True\n",
            "daniela\n",
            "8\n",
            "guanenta\n"
          ]
        }
      ]
    },
    {
      "cell_type": "code",
      "source": [
        "#ejercicio 9\n",
        "\n",
        "nombre = input(\"dijite su nombre\")\n",
        "\n",
        "for i in nombre:\n",
        "  print(i)"
      ],
      "metadata": {
        "colab": {
          "base_uri": "https://localhost:8080/"
        },
        "id": "AAo1qHnjIiQt",
        "outputId": "fd2acd58-f7d2-41bd-c5af-3e29d6f85e58"
      },
      "execution_count": 13,
      "outputs": [
        {
          "output_type": "stream",
          "name": "stdout",
          "text": [
            "dijite su nombredaniela\n",
            "d\n",
            "a\n",
            "n\n",
            "i\n",
            "e\n",
            "l\n",
            "a\n"
          ]
        }
      ]
    },
    {
      "cell_type": "code",
      "source": [
        "#ejercicio 10\n",
        "\n",
        "nombre = input(\"dijite su nombre\")\n",
        "\n",
        "for i in nombre:\n",
        "  if i == \"e\":\n",
        "   print(\"*\")\n",
        "  else:\n",
        "    print(i)"
      ],
      "metadata": {
        "colab": {
          "base_uri": "https://localhost:8080/"
        },
        "id": "SexbmG4lIqzR",
        "outputId": "8d130039-6838-4cba-ef6f-12f54cbe8337"
      },
      "execution_count": 14,
      "outputs": [
        {
          "output_type": "stream",
          "name": "stdout",
          "text": [
            "dijite su nombredaniela\n",
            "d\n",
            "a\n",
            "n\n",
            "i\n",
            "*\n",
            "l\n",
            "a\n"
          ]
        }
      ]
    },
    {
      "cell_type": "code",
      "source": [
        "#ejercicio 11\n",
        "\n",
        "nombre = input(\"dijite su nombre \")\n",
        "\n",
        "for i in nombre:\n",
        "  print(i.upper())"
      ],
      "metadata": {
        "colab": {
          "base_uri": "https://localhost:8080/"
        },
        "id": "KRG0YXLZI1RV",
        "outputId": "a6800232-e99e-4f50-bee7-7a30d173af9c"
      },
      "execution_count": 18,
      "outputs": [
        {
          "output_type": "stream",
          "name": "stdout",
          "text": [
            "dijite su nombre DANIELA\n",
            "D\n",
            "A\n",
            "N\n",
            "I\n",
            "E\n",
            "L\n",
            "A\n"
          ]
        }
      ]
    },
    {
      "cell_type": "markdown",
      "source": [
        "EJERCICIO FOR\n"
      ],
      "metadata": {
        "id": "Fbn1iC3mX6RP"
      }
    },
    {
      "cell_type": "code",
      "source": [
        "# ejercicio 1\n",
        "\n",
        "numeros = [20, 21, 30, 41, 50, 51, 20]\n",
        "\n",
        "for numero in numeros:\n",
        "    if numero % 10 != 1:\n",
        "        print(numero)"
      ],
      "metadata": {
        "colab": {
          "base_uri": "https://localhost:8080/"
        },
        "id": "0Z3jn3RdI2Bw",
        "outputId": "9c23f17d-8b3d-434c-9904-aaea28fe1b2b"
      },
      "execution_count": 19,
      "outputs": [
        {
          "output_type": "stream",
          "name": "stdout",
          "text": [
            "20\n",
            "30\n",
            "50\n",
            "20\n"
          ]
        }
      ]
    },
    {
      "cell_type": "code",
      "source": [
        "# ejercicio 2\n",
        "\n",
        "for _ in range(1000):\n",
        "    print(\"Programación\")\n"
      ],
      "metadata": {
        "id": "wecf8JBsI4qo"
      },
      "execution_count": null,
      "outputs": []
    },
    {
      "cell_type": "code",
      "source": [
        "#ejercicio 3\n",
        "\n",
        "\n",
        "meses = {\n",
        "    \"E\": \"Enero\",\n",
        "    \"F\": \"Febrero\",\n",
        "    \"M\": \"Marzo\",\n",
        "    \"A\": \"Abril\"\n",
        "}\n",
        "\n",
        "iniciales_meses = [\"E\", \"F\", \"M\", \"A\"]\n",
        "\n",
        "for inicial in iniciales_meses:\n",
        "    print(meses[inicial])"
      ],
      "metadata": {
        "colab": {
          "base_uri": "https://localhost:8080/"
        },
        "id": "EmiHskLVI8Yg",
        "outputId": "3964828d-37b4-4d35-d3e5-e24b375ba365"
      },
      "execution_count": 16,
      "outputs": [
        {
          "output_type": "stream",
          "name": "stdout",
          "text": [
            "Enero\n",
            "Febrero\n",
            "Marzo\n",
            "Abril\n"
          ]
        }
      ]
    },
    {
      "cell_type": "code",
      "source": [
        "#ejercicio 4\n",
        "\n",
        "\n",
        "texto = input(\"Ingrese el texto: \")\n",
        "vocales = {'a': 0, 'e': 0, 'i': 0, 'o': 0, 'u': 0, 'A': 0, 'E': 0, 'I': 0, 'O': 0, 'U': 0}\n",
        "for letra in texto:\n",
        "    if letra in vocales:\n",
        "        vocales[letra] += 1\n",
        "for vocal, count in vocales.items():\n",
        "    print(f\"{vocal}: {count}\")"
      ],
      "metadata": {
        "colab": {
          "base_uri": "https://localhost:8080/"
        },
        "id": "PGo6nXH8MO_f",
        "outputId": "f1a84e34-2420-4b58-bb0a-8c8d8779bbf3"
      },
      "execution_count": 15,
      "outputs": [
        {
          "output_type": "stream",
          "name": "stdout",
          "text": [
            "Ingrese el texto: casA\n",
            "a: 1\n",
            "e: 0\n",
            "i: 0\n",
            "o: 0\n",
            "u: 0\n",
            "A: 1\n",
            "E: 0\n",
            "I: 0\n",
            "O: 0\n",
            "U: 0\n"
          ]
        }
      ]
    },
    {
      "cell_type": "markdown",
      "source": [
        "#ejercicio 5\n",
        "\n",
        "```\n",
        "# Esto tiene formato de código\n",
        "```\n",
        "\n",
        "\n",
        "\n",
        "1. **Inicio:** Se representa con un óvalo que indica el inicio del bucle.\n",
        "2. **Inicialización:** Se utiliza un rectángulo para indicar la inicialización del bucle, donde se establecen las condiciones iniciales, como la asignación de un valor inicial a la variable de control del bucle.\n",
        "3. **Condición de continuación:** Se utiliza un rombo para representar la evaluación de la condición de continuación del bucle. Si la condición es verdadera, el flujo sigue adelante; de lo contrario, el bucle se termina.\n",
        "4. **Cuerpo del bucle:** Se representa con otro rectángulo que contiene las instrucciones que se ejecutan repetidamente mientras la condición de continuación sea verdadera.\n",
        "5. **Actualización de la variable de control:** Después de cada iteración del bucle, se actualiza la variable de control para acercarse a la condición de terminación.\n",
        "6. **Fin:** Se utiliza un óvalo para indicar el fin del bucle.\n"
      ],
      "metadata": {
        "id": "Vxq3dRQbPn2X"
      }
    },
    {
      "cell_type": "code",
      "source": [
        "# ejercicio 6\n",
        "\n",
        "\n",
        "pares, impares = sum(1 for _ in range(20) if int(input(\"Ingrese un número entero: \")) % 2 == 0), 20\n",
        "print(f\"Total de números pares: {pares}\")\n",
        "print(f\"Total de números impares: {impares - pares}\")"
      ],
      "metadata": {
        "colab": {
          "base_uri": "https://localhost:8080/"
        },
        "id": "wz36R4ydP-Kl",
        "outputId": "c04ad880-96aa-4ece-b51a-94520e9a6984"
      },
      "execution_count": 20,
      "outputs": [
        {
          "output_type": "stream",
          "name": "stdout",
          "text": [
            "Ingrese un número entero: 10\n",
            "Ingrese un número entero: 11\n",
            "Ingrese un número entero: 12\n",
            "Ingrese un número entero: 13\n",
            "Ingrese un número entero: 14\n",
            "Ingrese un número entero: 15\n",
            "Ingrese un número entero: 16\n",
            "Ingrese un número entero: 17\n",
            "Ingrese un número entero: 18\n",
            "Ingrese un número entero: 20\n",
            "Ingrese un número entero: 21\n",
            "Ingrese un número entero: 22\n",
            "Ingrese un número entero: 23\n",
            "Ingrese un número entero: 24\n",
            "Ingrese un número entero: 25\n",
            "Ingrese un número entero: 26\n",
            "Ingrese un número entero: 27\n",
            "Ingrese un número entero: 28\n",
            "Ingrese un número entero: 2\n",
            "Ingrese un número entero: 29\n",
            "Total de números pares: 11\n",
            "Total de números impares: 9\n"
          ]
        }
      ]
    },
    {
      "cell_type": "code",
      "source": [
        "#ejercicio 7\n",
        "\n",
        "multiplos_7 = sum(1 for num in range(1000, 5001) if num % 7 == 0)\n",
        "multiplos_9 = sum(1 for num in range(1000, 5001) if num % 9 == 0)\n",
        "print(f\"Total de múltiplos de 7: {multiplos_7}\")\n",
        "print(f\"Total de múltiplos de 9: {multiplos_9}\")"
      ],
      "metadata": {
        "colab": {
          "base_uri": "https://localhost:8080/"
        },
        "id": "piMdPBAWZHEk",
        "outputId": "29145cbd-1e50-433a-c79c-93c18bafddac"
      },
      "execution_count": 21,
      "outputs": [
        {
          "output_type": "stream",
          "name": "stdout",
          "text": [
            "Total de múltiplos de 7: 572\n",
            "Total de múltiplos de 9: 444\n"
          ]
        }
      ]
    },
    {
      "cell_type": "code",
      "source": [
        "#ejercicio 8\n",
        "\n",
        "import random\n",
        "N = int(input(\"Ingrese el número de dados a lanzar: \"))\n",
        "frecuencia = {i: 0 for i in range(1, 7)}\n",
        "[frecuencia.update({cara: frecuencia.get(cara, 0) + 1}) for _ in range(N) if (cara := random.randint(1, 6))]\n",
        "[print(f\"Cara {cara}: {frecuencia[cara]} {'*' * frecuencia[cara]}\") for cara in frecuencia]"
      ],
      "metadata": {
        "colab": {
          "base_uri": "https://localhost:8080/"
        },
        "id": "8HBQ9q3mZQB2",
        "outputId": "d11d52ea-4bcf-4d78-c678-8270ea35fe81"
      },
      "execution_count": 22,
      "outputs": [
        {
          "output_type": "stream",
          "name": "stdout",
          "text": [
            "Ingrese el número de dados a lanzar: 14\n",
            "Cara 1: 1 *\n",
            "Cara 2: 2 **\n",
            "Cara 3: 3 ***\n",
            "Cara 4: 3 ***\n",
            "Cara 5: 2 **\n",
            "Cara 6: 3 ***\n"
          ]
        },
        {
          "output_type": "execute_result",
          "data": {
            "text/plain": [
              "[None, None, None, None, None, None]"
            ]
          },
          "metadata": {},
          "execution_count": 22
        }
      ]
    },
    {
      "cell_type": "code",
      "source": [
        "# ejercicio 9\n",
        "\n",
        "\n",
        "n = int(input(\"Ingrese un número entero no negativo: \"))\n",
        "factorial = 1\n",
        "for i in range(1, n + 1):\n",
        "    factorial *= i\n",
        "print(f\"El factorial de {n} es: {factorial}\")"
      ],
      "metadata": {
        "colab": {
          "base_uri": "https://localhost:8080/"
        },
        "id": "4ThmGzPAZXi7",
        "outputId": "d5f27073-d5be-4b55-847d-8510c2b6fd56"
      },
      "execution_count": 23,
      "outputs": [
        {
          "output_type": "stream",
          "name": "stdout",
          "text": [
            "Ingrese un número entero no negativo: 45\n",
            "El factorial de 45 es: 119622220865480194561963161495657715064383733760000000000\n"
          ]
        }
      ]
    },
    {
      "cell_type": "code",
      "source": [
        "# ejercicio 10\n",
        "\n",
        "\n",
        "for i in range(1, 11):\n",
        "    print(i ** 2, end=\", \" if i < 10 else \"\")"
      ],
      "metadata": {
        "colab": {
          "base_uri": "https://localhost:8080/"
        },
        "id": "TjeL7NL0Zju7",
        "outputId": "8cc8184b-556f-4b5a-9178-f1071aab9e5d"
      },
      "execution_count": 24,
      "outputs": [
        {
          "output_type": "stream",
          "name": "stdout",
          "text": [
            "1, 4, 9, 16, 25, 36, 49, 64, 81, 100"
          ]
        }
      ]
    }
  ]
}